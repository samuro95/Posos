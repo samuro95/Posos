{
 "cells": [
  {
   "cell_type": "code",
   "execution_count": 1,
   "metadata": {},
   "outputs": [
    {
     "name": "stderr",
     "output_type": "stream",
     "text": [
      "/Users/samuelhurault/anaconda3/lib/python3.6/site-packages/h5py/__init__.py:34: FutureWarning: Conversion of the second argument of issubdtype from `float` to `np.floating` is deprecated. In future, it will be treated as `np.float64 == np.dtype(float).type`.\n",
      "  from ._conv import register_converters as _register_converters\n",
      "Using TensorFlow backend.\n"
     ]
    }
   ],
   "source": [
    "import numpy as np\n",
    "import os\n",
    "from data_helper import build_dictionary, load_data, clean_sequences, encode_sequences, create_train_val_sets, get_med_list, save_cleaned_data\n",
    "from model_helper import test_word, create_embedding,get_data_emdedding, SVM, XGB, logistic_regression, multi_CNN, HAN, train, generate_test_file\n",
    "from sklearn.linear_model import LogisticRegression\n",
    "from sklearn.metrics import accuracy_score\n",
    "from gensim.models import KeyedVectors"
   ]
  },
  {
   "cell_type": "code",
   "execution_count": null,
   "metadata": {
    "collapsed": true
   },
   "outputs": [],
   "source": [
    "data_path = '../data'\n",
    "bin_file = '../data/fr_emb.bin'\n",
    "embedding_path = '../data/polyglot-fr.pkl'\n",
    "\n",
    "med_list = get_med_list()\n",
    "\n",
    "train_sent,y_train,test_sent = load_data(data_path)\n",
    "\n",
    "train_sent_corrected = clean_sequences(train_sent, lemmatizing = True, correcting = False, med_list = med_list)\n",
    "test_sent_corrected = clean_sequences(test_sent, lemmatizing = True, correcting = False, med_list = med_list)\n",
    "dict = build_dictionary(train_sent_corrected+test_sent_corrected)"
   ]
  },
  {
   "cell_type": "code",
   "execution_count": 4,
   "metadata": {},
   "outputs": [
    {
     "data": {
      "text/plain": [
       "10063"
      ]
     },
     "execution_count": 4,
     "metadata": {},
     "output_type": "execute_result"
    }
   ],
   "source": [
    "len(train_sent_corrected+test_sent_corrected)"
   ]
  },
  {
   "cell_type": "code",
   "execution_count": null,
   "metadata": {
    "collapsed": true
   },
   "outputs": [],
   "source": [
    "#import pickle\n",
    "#dict_emb, embeddings = pickle.load(open(embedding_path, 'rb'), encoding='latin1')\n",
    "#OOV = test_word(train_sent_corrected+test_sent_corrected, dict_emb)\n",
    "wv = KeyedVectors.load_word2vec_format(bin_file, binary=True)\n",
    "dict_corpus = wv.vocab.keys()\n",
    "OOV_words = test_word(train_sent_corrected, wv.vocab.keys())"
   ]
  },
  {
   "cell_type": "code",
   "execution_count": null,
   "metadata": {},
   "outputs": [],
   "source": [
    "from OOV import OOV\n",
    "OOV = OOV(wv.vocab.keys(),dict)\n",
    "OOV_corrections = []\n",
    "for w in OOV_words :\n",
    "    OOV_corrections.append(OOV.replace_OOV(w))"
   ]
  }
 ],
 "metadata": {
  "kernelspec": {
   "display_name": "Python 3",
   "language": "python",
   "name": "python3"
  },
  "language_info": {
   "codemirror_mode": {
    "name": "ipython",
    "version": 3
   },
   "file_extension": ".py",
   "mimetype": "text/x-python",
   "name": "python",
   "nbconvert_exporter": "python",
   "pygments_lexer": "ipython3",
   "version": "3.6.3"
  }
 },
 "nbformat": 4,
 "nbformat_minor": 2
}
